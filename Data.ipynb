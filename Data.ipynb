{
 "cells": [
  {
   "cell_type": "code",
   "execution_count": 12,
   "metadata": {},
   "outputs": [],
   "source": [
    "import main\n",
    "from os import listdir\n",
    "import pandas as pd\n",
    "import TAtT\n",
    "import Christofides\n",
    "import time as T\n",
    "import tracemalloc"
   ]
  },
  {
   "cell_type": "code",
   "execution_count": 13,
   "metadata": {},
   "outputs": [],
   "source": [
    "\n",
    "df = pd.DataFrame({'Nome':['a'], 'Tamanho':[0], 'BnB':[0], 'timeBnB':[0], 'spaceBnB':[0], 'TAtT':[0], 'timeTAtT':[0], 'spaceTAtT':[0], 'Christofides':[0], 'timeChristofides':[0], 'spaceChristofides':[0]})"
   ]
  },
  {
   "cell_type": "code",
   "execution_count": null,
   "metadata": {},
   "outputs": [
    {
     "name": "stdout",
     "output_type": "stream",
     "text": [
      "add  pr439.tsp 146846.6506092363 8.822610139846802 195056\n",
      "add  rd100.tsp 10791.655815950702 0.09243297576904297 102480\n",
      "add  rl5934.tsp 842363.5317887756 798.6499569416046 269048\n",
      "add  pcb442.tsp 69762.39674204763 1.3428778648376465 165274\n",
      "add  u2319.tsp 405732.6557932765 29.943149089813232 184296\n",
      "add  gil262.tsp 3358.1541767582894 0.40581512451171875 157598\n",
      "add  pcb3038.tsp 196718.24358220736 66.3691189289093 231544\n",
      "add  lin105.tsp 20044.57150291655 0.07122516632080078 94742\n",
      "add  fl417.tsp 16299.726149586879 0.9887528419494629 166704\n",
      "add  tsp225.tsp 5134.281989396211 0.278980016708374 149512\n",
      "add  fl1400.tsp 27825.070536374555 14.141266345977783 204456\n",
      "add  nrw1379.tsp 79156.2650653691 12.830925941467285 204128\n",
      "add  d2103.tsp 140961.1078959783 31.82856011390686 212480\n",
      "add  kroA150.tsp 35122.56680105931 0.12894487380981445 141782\n",
      "add  pcb1173.tsp 80728.18863419454 8.484966278076172 206624\n",
      "add  d198.tsp 19161.209417048813 0.23141789436340332 161742\n",
      "add  fl1577.tsp 32026.55301436519 18.621258020401 211544\n",
      "add  ch130.tsp 8128.757281130948 0.09980225563049316 131454\n",
      "add  kroB100.tsp 25881.199893685625 0.052079200744628906 107600\n",
      "add  u1060.tsp 303084.36154874734 7.888129949569702 202952\n",
      "add  berlin52.tsp 10116.014495510826 0.011037826538085938 3376\n",
      "add  eil51.tsp 626.337290790307 0.010879993438720703 3344\n",
      "add  rl1304.tsp 350894.10127275786 12.101875305175781 206576\n",
      "add  u2152.tsp 101570.27112887488 33.122812032699585 208872\n",
      "add  u724.tsp 57934.088827179134 2.9352691173553467 169120\n",
      "add  kroD100.tsp 27113.29664042698 0.05419015884399414 104480\n",
      "add  linhp318.tsp 59334.954404748154 0.5700149536132812 159874\n",
      "add  pr299.tsp 64573.23371762577 0.49094200134277344 160232\n",
      "add  rd400.tsp 20250.376744292647 0.8994801044464111 166359\n",
      "add  vm1084.tsp 314321.65542920964 8.685720205307007 200784\n",
      "add  rat575.tsp 9425.889324223228 1.8692739009857178 168062\n",
      "add  d1655.tsp 87803.08156454594 19.87646508216858 207072\n",
      "add  ch150.tsp 8333.472170089168 0.1276381015777588 142422\n"
     ]
    }
   ],
   "source": [
    "files = list(listdir('ALL_tsp'))\n",
    "dfTAtT = pd.DataFrame({'Name':['a'],'Val':[0],'time':[0],'space':[0]})\n",
    "for file in files:\n",
    "    name = file\n",
    "    (G,_,_) = main.Graph('ALL_tsp/'+file)\n",
    "    init = T.time()\n",
    "    tracemalloc.start()\n",
    "    snapshot1 = tracemalloc.take_snapshot()\n",
    "    (_, W) = TAtT.TatT(G,1)\n",
    "    snapshot2 = tracemalloc.take_snapshot()\n",
    "    tracemalloc.stop()\n",
    "    diferenca = snapshot2.compare_to(snapshot1, 'lineno')\n",
    "    space = round(sum(stat.size_diff for stat in diferenca), 2)\n",
    "    time = T.time() - init\n",
    "    newrow = pd.DataFrame({'Name':[file],'Val':[W],'time':[round(time,2)],'space':[space]})\n",
    "    dfTAtT = pd.concat([dfTAtT,newrow],ignore_index=True)\n",
    "    dfTAtT.to_csv('CSV/TAtT.csv')\n",
    "    print('add ',name,W,time,space)\n",
    "dfTAtT.drop([0],axis=0)\n"
   ]
  },
  {
   "cell_type": "code",
   "execution_count": null,
   "metadata": {},
   "outputs": [],
   "source": [
    "dfChristofides = pd.DataFrame({'Name':'a','Val':0,'time':0,'space':[0]})\n",
    "for file in files:\n",
    "    name = file\n",
    "    G = main.Graph(file)\n",
    "    init = time.time()\n",
    "    tracemalloc.start()\n",
    "    snapshot1 = tracemalloc.take_snapshot()\n",
    "    (_, W) = Christofides.Christofides(G,1)\n",
    "    time = T.time() - init\n",
    "    snapshot2 = tracemalloc.take_snapshot()\n",
    "    diferenca = snapshot2.compare_to(snapshot1, 'lineno')\n",
    "    space = round(sum(stat.size_diff for stat in diferenca), 2)\n",
    "    newrow = pd.DataFrame({'Name':[file],'Val':[W],'time':[time],'space':[space]})\n",
    "    dfChristofides = pd.concat([dfChristofides,newrow],ignore_index=True)\n",
    "    dfChristofides.to_csv('CSV/Christofides.csv')\n",
    "    print('add ',name,W,time,space)\n",
    "dfChristofides.drop([0],axis=0)"
   ]
  }
 ],
 "metadata": {
  "kernelspec": {
   "display_name": "Python 3",
   "language": "python",
   "name": "python3"
  },
  "language_info": {
   "codemirror_mode": {
    "name": "ipython",
    "version": 3
   },
   "file_extension": ".py",
   "mimetype": "text/x-python",
   "name": "python",
   "nbconvert_exporter": "python",
   "pygments_lexer": "ipython3",
   "version": "3.13.0"
  }
 },
 "nbformat": 4,
 "nbformat_minor": 2
}
