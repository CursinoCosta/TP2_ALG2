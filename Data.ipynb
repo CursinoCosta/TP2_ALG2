{
 "cells": [
  {
   "cell_type": "code",
   "execution_count": 5,
   "metadata": {},
   "outputs": [],
   "source": [
    "import main\n",
    "from os import listdir\n",
    "import pandas as pd\n",
    "import TAtT\n",
    "import Christofides\n",
    "import time as T"
   ]
  },
  {
   "cell_type": "code",
   "execution_count": null,
   "metadata": {},
   "outputs": [],
   "source": [
    "\n",
    "df = pd.DataFrame({'Nome':'a', 'Tamanho':0, 'BnB':0, 'timeBnB':0, 'TAtT':0, 'timeTAtT':0, 'Christofides':0, 'timeChristofides':0})"
   ]
  },
  {
   "cell_type": "code",
   "execution_count": null,
   "metadata": {},
   "outputs": [
    {
     "name": "stdout",
     "output_type": "stream",
     "text": [
      "add  d493.tsp 45571.71848892038 -0.21964383125305176\n",
      "add  st70.tsp 873.3514856717352 -0.0022165775299072266\n",
      "add  eil101.tsp 832.2217964254476 -0.006944894790649414\n",
      "add  pr152.tsp 92021.71384204339 -0.011961936950683594\n",
      "add  kroA100.tsp 27211.67972921635 -0.004147052764892578\n",
      "add  rat783.tsp 12067.602998246572 -0.59889817237854\n"
     ]
    },
    {
     "ename": "KeyboardInterrupt",
     "evalue": "",
     "output_type": "error",
     "traceback": [
      "\u001b[0;31m---------------------------------------------------------------------------\u001b[0m",
      "\u001b[0;31mKeyboardInterrupt\u001b[0m                         Traceback (most recent call last)",
      "Cell \u001b[0;32mIn[6], line 5\u001b[0m\n\u001b[1;32m      3\u001b[0m \u001b[38;5;28;01mfor\u001b[39;00m file \u001b[38;5;129;01min\u001b[39;00m files:\n\u001b[1;32m      4\u001b[0m     name \u001b[38;5;241m=\u001b[39m file\n\u001b[0;32m----> 5\u001b[0m     (G,_,_) \u001b[38;5;241m=\u001b[39m main\u001b[38;5;241m.\u001b[39mGraph(\u001b[38;5;124m'\u001b[39m\u001b[38;5;124mALL_tsp/\u001b[39m\u001b[38;5;124m'\u001b[39m\u001b[38;5;241m+\u001b[39mfile)\n\u001b[1;32m      6\u001b[0m     init \u001b[38;5;241m=\u001b[39m T\u001b[38;5;241m.\u001b[39mtime()\n\u001b[1;32m      7\u001b[0m     (_, W) \u001b[38;5;241m=\u001b[39m TAtT\u001b[38;5;241m.\u001b[39mTatT(G,\u001b[38;5;241m1\u001b[39m)\n",
      "File \u001b[0;32m~/ufmg/ALG2/TP2_ALG2/main.py:58\u001b[0m, in \u001b[0;36mGraph\u001b[0;34m(file_path)\u001b[0m\n\u001b[1;32m     56\u001b[0m         id1, x1, y1 \u001b[38;5;241m=\u001b[39m nodes[i]\n\u001b[1;32m     57\u001b[0m         id2, x2, y2 \u001b[38;5;241m=\u001b[39m nodes[j]\n\u001b[0;32m---> 58\u001b[0m         distance \u001b[38;5;241m=\u001b[39m math\u001b[38;5;241m.\u001b[39msqrt((x2 \u001b[38;5;241m-\u001b[39m x1) \u001b[38;5;241m*\u001b[39m\u001b[38;5;241m*\u001b[39m \u001b[38;5;241m2\u001b[39m \u001b[38;5;241m+\u001b[39m (y2 \u001b[38;5;241m-\u001b[39m y1) \u001b[38;5;241m*\u001b[39m\u001b[38;5;241m*\u001b[39m \u001b[38;5;241m2\u001b[39m)\n\u001b[1;32m     59\u001b[0m         G\u001b[38;5;241m.\u001b[39madd_edge(id1, id2, weight\u001b[38;5;241m=\u001b[39mdistance)\n\u001b[1;32m     61\u001b[0m \u001b[38;5;28;01mreturn\u001b[39;00m G , size, name\n",
      "\u001b[0;31mKeyboardInterrupt\u001b[0m: "
     ]
    }
   ],
   "source": [
    "files = list(listdir('ALL_tsp'))\n",
    "dfTAtT = pd.DataFrame({'Name':['a'],'Val':[0],'time':[0]})\n",
    "for file in files:\n",
    "    name = file\n",
    "    (G,_,_) = main.Graph('ALL_tsp/'+file)\n",
    "    init = T.time()\n",
    "    (_, W) = TAtT.TatT(G,1)\n",
    "    time = T.time() - init\n",
    "    newrow = pd.DataFrame({'Name':[file],'Val':[W],'time':[time]})\n",
    "    dfTAtT = pd.concat([dfTAtT,newrow],ignore_index=True)\n",
    "    dfTAtT.to_csv('CSV/TAtT.csv')\n",
    "    print('add ',name,W,time)\n",
    "dfTAtT.drop([0],axis=0)\n"
   ]
  },
  {
   "cell_type": "code",
   "execution_count": null,
   "metadata": {},
   "outputs": [],
   "source": [
    "dfChristofides = pd.DataFrame({'Name':'a','Val':0,'time':0})\n",
    "for file in files:\n",
    "    name = file\n",
    "    G = main.Graph(file)\n",
    "    init = time.time()\n",
    "    (_, W) = Christofides.Christofides(G,1)\n",
    "    time = T.time() - init\n",
    "    newrow = pd.DataFrame({'Name':file,'Val':W,'time':time})\n",
    "    dfChristofides = pd.concat([dfChristofides,newrow],ignore_index=True)\n",
    "dfChristofides.to_csv('CSV/Christofides.csv')"
   ]
  }
 ],
 "metadata": {
  "kernelspec": {
   "display_name": "base",
   "language": "python",
   "name": "python3"
  },
  "language_info": {
   "codemirror_mode": {
    "name": "ipython",
    "version": 3
   },
   "file_extension": ".py",
   "mimetype": "text/x-python",
   "name": "python",
   "nbconvert_exporter": "python",
   "pygments_lexer": "ipython3",
   "version": "3.12.4"
  }
 },
 "nbformat": 4,
 "nbformat_minor": 2
}
