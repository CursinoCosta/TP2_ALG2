{
 "cells": [
  {
   "cell_type": "code",
   "execution_count": 1,
   "metadata": {},
   "outputs": [],
   "source": [
    "import main\n",
    "from os import listdir\n",
    "import pandas as pd\n",
    "import TAtT\n",
    "import Christofides\n",
    "import time as T\n",
    "import tracemalloc"
   ]
  },
  {
   "cell_type": "code",
   "execution_count": 2,
   "metadata": {},
   "outputs": [],
   "source": [
    "\n",
    "df = pd.DataFrame({'Nome':['a'], 'Tamanho':[0], 'BnB':[0], 'timeBnB':[0], 'spaceBnB':[0], 'TAtT':[0], 'timeTAtT':[0], 'spaceTAtT':[0], 'Christofides':[0], 'timeChristofides':[0], 'spaceChristofides':[0]})"
   ]
  },
  {
   "cell_type": "code",
   "execution_count": null,
   "metadata": {},
   "outputs": [],
   "source": [
    "files = list(listdir('ALL_tsp'))\n",
    "dfTAtT = pd.DataFrame({'Name':['a'],'Val':[0],'time':[0],'space':[0]})\n",
    "for file in files:\n",
    "    name = file\n",
    "    (G,_,_) = main.Graph('ALL_tsp/'+file)\n",
    "    init = T.time()\n",
    "    tracemalloc.start()\n",
    "    snapshot1 = tracemalloc.take_snapshot()\n",
    "    (_, W) = TAtT.TatT(G,1)\n",
    "    snapshot2 = tracemalloc.take_snapshot()\n",
    "    diferenca = snapshot2.compare_to(snapshot1, 'lineno')\n",
    "    space = round(sum(stat.size_diff for stat in diferenca), 2)\n",
    "    time = T.time() - init\n",
    "    newrow = pd.DataFrame({'Name':[file],'Val':[W],'time':[round(time,2)],'space':[space]})\n",
    "    dfTAtT = pd.concat([dfTAtT,newrow],ignore_index=True)\n",
    "    dfTAtT.to_csv('CSV/TAtT.csv')\n",
    "    print('add ',name,W,time,space)\n",
    "dfTAtT.drop([0],axis=0)\n"
   ]
  },
  {
   "cell_type": "code",
   "execution_count": null,
   "metadata": {},
   "outputs": [],
   "source": [
    "dfChristofides = pd.DataFrame({'Name':'a','Val':0,'time':0,'space':[0]})\n",
    "for file in files:\n",
    "    name = file\n",
    "    G = main.Graph(file)\n",
    "    init = time.time()\n",
    "    tracemalloc.start()\n",
    "    snapshot1 = tracemalloc.take_snapshot()\n",
    "    (_, W) = Christofides.Christofides(G,1)\n",
    "    snapshot2 = tracemalloc.take_snapshot()\n",
    "    space = snapshot2.compare_to(snapshot1, 'lineno')\n",
    "    time = T.time() - init\n",
    "    newrow = pd.DataFrame({'Name':[file],'Val':[W],'time':[time],'space':[space]})\n",
    "    dfChristofides = pd.concat([dfChristofides,newrow],ignore_index=True)\n",
    "    dfChristofides.to_csv('CSV/Christofides.csv')\n",
    "    print('add ',name,W,time,space)\n",
    "dfChristofides.drop([0],axis=0)"
   ]
  }
 ],
 "metadata": {
  "kernelspec": {
   "display_name": "Python 3",
   "language": "python",
   "name": "python3"
  },
  "language_info": {
   "codemirror_mode": {
    "name": "ipython",
    "version": 3
   },
   "file_extension": ".py",
   "mimetype": "text/x-python",
   "name": "python",
   "nbconvert_exporter": "python",
   "pygments_lexer": "ipython3",
   "version": "3.13.0"
  }
 },
 "nbformat": 4,
 "nbformat_minor": 2
}
