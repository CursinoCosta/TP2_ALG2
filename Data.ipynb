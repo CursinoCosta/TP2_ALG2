{
 "cells": [
  {
   "cell_type": "code",
   "execution_count": 4,
   "metadata": {},
   "outputs": [],
   "source": [
    "import main\n",
    "from os import listdir\n",
    "import pandas as pd\n",
    "import TAtT\n",
    "import Christofides\n",
    "import time as T\n",
    "import tracemalloc"
   ]
  },
  {
   "cell_type": "code",
   "execution_count": 2,
   "metadata": {},
   "outputs": [],
   "source": [
    "\n",
    "df = pd.DataFrame({'Nome':['a'], 'Tamanho':[0], 'BnB':[0], 'timeBnB':[0], 'spaceBnB':[0], 'TAtT':[0], 'timeTAtT':[0], 'spaceTAtT':[0], 'Christofides':[0], 'timeChristofides':[0], 'spaceChristofides':[0]})"
   ]
  },
  {
   "cell_type": "code",
   "execution_count": 6,
   "metadata": {},
   "outputs": [],
   "source": [
    "import signal\n",
    "import time as T\n",
    "from contextlib import contextmanager\n",
    "\n",
    "class TimeoutException(Exception): pass\n",
    "\n",
    "@contextmanager\n",
    "def time_limit(seconds):\n",
    "    def signal_handler(signum, frame):\n",
    "        raise TimeoutException(\"Timed out!\")\n",
    "    signal.signal(signal.SIGALRM, signal_handler)\n",
    "    signal.alarm(seconds)\n",
    "    try:\n",
    "        yield\n",
    "    finally:\n",
    "        signal.alarm(0)\n"
   ]
  },
  {
   "cell_type": "code",
   "execution_count": null,
   "metadata": {},
   "outputs": [],
   "source": [
    "files = list(listdir('ALL_tsp'))\n",
    "dfTAtT = pd.DataFrame({'Name':['a'],'Val':[0],'time':[0],'space':[0]})\n",
    "for file in files:\n",
    "    try:\n",
    "        with time_limit(60*30):\n",
    "            name = file\n",
    "            print(name)\n",
    "            (G,_,_) = main.Graph('ALL_tsp/'+file)\n",
    "            init = T.time()\n",
    "            tracemalloc.start()\n",
    "            snapshot1 = tracemalloc.take_snapshot()\n",
    "            (_, W) = TAtT.TatT(G,1)\n",
    "            snapshot2 = tracemalloc.take_snapshot()\n",
    "            tracemalloc.stop()\n",
    "            diferenca = snapshot2.compare_to(snapshot1, 'lineno')\n",
    "            space = round(sum(stat.size_diff for stat in diferenca), 2)\n",
    "            time = T.time() - init\n",
    "            newrow = pd.DataFrame({'Name':[file],'Val':[W],'time':[round(time,2)],'space':[space]})\n",
    "            dfTAtT = pd.concat([dfTAtT,newrow],ignore_index=True)\n",
    "            dfTAtT.to_csv('CSV/TAtT.csv')\n",
    "            print('add ',name,W,time,space)\n",
    "    except TimeoutException as e:\n",
    "        newroe = pd.DataFrame({'Name':[file],'Val':[None],'time':[30],'space':[None]})\n",
    "        dfTAtT = pd.concat([dfTAtT,newrow],ignore_index=True)\n",
    "        dfTAtT.to_csv('CSV/TAtT.csv')\n",
    "        print(\"Timed out! \",file)\n",
    "dfTAtT.drop([0],axis=0)\n"
   ]
  },
  {
   "cell_type": "code",
   "execution_count": null,
   "metadata": {},
   "outputs": [],
   "source": [
    "files = list(listdir('ALL_tsp'))\n",
    "dfChristofides = pd.DataFrame({'Name':['a'],'Val':[0],'time':[0],'space':[0]})\n",
    "for file in files:\n",
    "    try:\n",
    "        name = file\n",
    "        print(name)\n",
    "        (G,_,_) = main.Graph('ALL_tsp/'+file)\n",
    "        init = T.time()\n",
    "        tracemalloc.start()\n",
    "        snapshot1 = tracemalloc.take_snapshot()\n",
    "        (_, W) = Christofides.Christofides(G,1)\n",
    "        time = T.time() - init\n",
    "        snapshot2 = tracemalloc.take_snapshot()\n",
    "        tracemalloc.stop()      \n",
    "        diferenca = snapshot2.compare_to(snapshot1, 'lineno')\n",
    "        space = round(sum(stat.size_diff for stat in diferenca), 2)\n",
    "        newrow = pd.DataFrame({'Name':[file],'Val':[W],'time':[time],'space':[space]})\n",
    "        dfChristofides = pd.concat([dfChristofides,newrow],ignore_index=True)\n",
    "        dfChristofides.to_csv('CSV/Christofides.csv')\n",
    "        print('add ',name,W,time,space)\n",
    "    except TimeoutException as e:\n",
    "        newrow = pd.DataFrame({'Name':[file],'Val':[None],'time':[30],'space':[None]})\n",
    "        dfChristofides = pd.concat([dfChristofides,newrow],ignore_index=True)\n",
    "        dfTAtT.to_csv('CSV/TAtT.csv')\n",
    "        print(\"Timed out! \",file)\n",
    "dfChristofides.drop([0],axis=0)"
   ]
  }
 ],
 "metadata": {
  "kernelspec": {
   "display_name": "Python 3 (ipykernel)",
   "language": "python",
   "name": "python3"
  },
  "language_info": {
   "codemirror_mode": {
    "name": "ipython",
    "version": 3
   },
   "file_extension": ".py",
   "mimetype": "text/x-python",
   "name": "python",
   "nbconvert_exporter": "python",
   "pygments_lexer": "ipython3",
   "version": "3.12.4"
  }
 },
 "nbformat": 4,
 "nbformat_minor": 2
}
