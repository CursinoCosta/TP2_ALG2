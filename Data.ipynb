{
 "cells": [
  {
   "cell_type": "code",
   "execution_count": 26,
   "metadata": {},
   "outputs": [],
   "source": [
    "import main\n",
    "from os import listdir\n",
    "import pandas as pd\n",
    "import TAtT\n",
    "import Christofides\n",
    "import time as T\n",
    "import tracemalloc"
   ]
  },
  {
   "cell_type": "code",
   "execution_count": 18,
   "metadata": {},
   "outputs": [],
   "source": [
    "\n",
    "df = pd.DataFrame({'Nome':['a'], 'Tamanho':[0], 'BnB':[0], 'timeBnB':[0], 'spaceBnB':[0], 'TAtT':[0], 'timeTAtT':[0], 'spaceTAtT':[0], 'Christofides':[0], 'timeChristofides':[0], 'spaceChristofides':[0]})"
   ]
  },
  {
   "cell_type": "code",
   "execution_count": 25,
   "metadata": {},
   "outputs": [],
   "source": [
    "import signal\n",
    "import time as T\n",
    "from contextlib import contextmanager\n",
    "\n",
    "class TimeoutException(Exception): pass\n",
    "\n",
    "@contextmanager\n",
    "def time_limit(seconds):\n",
    "    def signal_handler(signum, frame):\n",
    "        raise TimeoutException(\"Timed out!\")\n",
    "    signal.signal(signal.SIGALRM, signal_handler)\n",
    "    signal.alarm(seconds)\n",
    "    try:\n",
    "        yield\n",
    "    finally:\n",
    "        signal.alarm(0)\n"
   ]
  },
  {
   "cell_type": "code",
   "execution_count": null,
   "metadata": {},
   "outputs": [],
   "source": [
    "from os import listdir\n",
    "files = list(listdir('ALL_tsp'))\n",
    "filesizes = []\n",
    "for file in files:\n",
    "    with open('ALL_tsp/'+file, 'r') as f:\n",
    "        lines = f.readlines()\n",
    "\n",
    "    for line in lines:\n",
    "        line = line.strip()\n",
    "        parts = line.split()\n",
    "        \n",
    "\n",
    "        if parts[0] == \"NAME\":\n",
    "            name = parts[2]  \n",
    "            continue\n",
    "\n",
    "        if parts[0] == \"NAME:\":\n",
    "            name = parts[1]  \n",
    "            continue\n",
    "\n",
    "        if parts[0] == \"DIMENSION\":\n",
    "            size = int(parts[2])\n",
    "            filesizes.append((size,name))\n",
    "            break\n",
    "\n",
    "        if parts[0] == \"DIMENSION:\":\n",
    "            size = int(parts[1])\n",
    "            filesizes.append((size,name))\n",
    "            break\n",
    "with open('ordenado.txt','w') as f:\n",
    "    for val,nome in sorted(filesizes):\n",
    "        f.write(nome + ' ' + str(val) +'\\n')\n"
   ]
  },
  {
   "cell_type": "code",
   "execution_count": null,
   "metadata": {},
   "outputs": [],
   "source": [
    "# newrow = pd.DataFrame({'Name':['d18512.tsp'],'Val':[None],'time':[None],'space':[None]})\n"
   ]
  },
  {
   "cell_type": "code",
   "execution_count": null,
   "metadata": {},
   "outputs": [],
   "source": [
    "# juntar = pd.read_csv('CSV/TAtT.csv')"
   ]
  },
  {
   "cell_type": "code",
   "execution_count": 27,
   "metadata": {},
   "outputs": [],
   "source": [
    "aux = pd.read_csv('CSVbackup/TAtT_backup.csv')\n",
    "# aux = aux['Name']\n",
    "# # aux = aux[aux != 'a']\n",
    "# aux = pd.concat([aux,newrow],ignore_index=True)           \n",
    "# aux = aux.loc[:, ~aux.columns.str.contains('^Unnamed')]\n",
    "# aux = pd.concat([aux, juntar], ignore_index=True)\n",
    "# aux.to_csv('CSVbackup/TAtT_backup.csv')\n",
    "# files = list(listdir('ALL_tsp'))\n",
    "# files = [file for file in files if file not in aux.values]\n",
    "# print(len(files))\n",
    "# aux"
   ]
  },
  {
   "cell_type": "code",
   "execution_count": null,
   "metadata": {},
   "outputs": [
    {
     "name": "stdout",
     "output_type": "stream",
     "text": [
      "           Name            Val    time     space\n",
      "1     pr439.tsp  146846.650609    8.82  195056.0\n",
      "2     rd100.tsp   10791.655816    0.09  102480.0\n",
      "3    rl5934.tsp  842363.531789  798.65  269048.0\n",
      "4    pcb442.tsp   69762.396742    1.34  165274.0\n",
      "5     u2319.tsp  405732.655793   29.94  184296.0\n",
      "..          ...            ...     ...       ...\n",
      "78    pr152.tsp   92021.713842    0.13  155192.0\n",
      "79    pr226.tsp  115264.012665    0.30  155248.0\n",
      "80   vm1748.tsp  445935.551642   25.72  236760.0\n",
      "81    pr144.tsp   80596.320048    0.14  130230.0\n",
      "82  kroE100.tsp   30507.419047    0.05   89520.0\n",
      "\n",
      "[78 rows x 4 columns]\n"
     ]
    }
   ],
   "source": [
    "# aux = aux[aux['Name'] != 'a']\n",
    "# aux.drop_duplicates(subset=\"Name\")\n",
    "# aux = aux.loc[:, ~aux.columns.str.contains('^Unnamed')]\n",
    "\n",
    "# # Salvar o DataFrame sem as colunas \"Unnamed\"\n",
    "# aux.to_csv('CSVbackup/TAtT_backup_clean.csv', index=False)\n",
    "# print(aux)"
   ]
  },
  {
   "cell_type": "code",
   "execution_count": 20,
   "metadata": {},
   "outputs": [
    {
     "name": "stdout",
     "output_type": "stream",
     "text": [
      "rl5915.tsp\n",
      "add  rl5915.tsp 858988.7277412643 972.2903616428375 276200\n",
      "st70.tsp\n",
      "add  st70.tsp 873.3514856717352 0.11015796661376953 25745\n",
      "rat99.tsp\n",
      "add  rat99.tsp 1717.2816970707845 0.08935689926147461 94832\n",
      "fl3795.tsp\n",
      "add  fl3795.tsp 40756.44806515285 151.0750539302826 268488\n",
      "u159.tsp\n",
      "add  u159.tsp 58292.50842435215 0.19995379447937012 142526\n",
      "kroA200.tsp\n",
      "add  kroA200.tsp 40030.86635119212 0.23863697052001953 154628\n",
      "u574.tsp\n",
      "add  u574.tsp 49086.37285729394 1.8511340618133545 167600\n",
      "pr1002.tsp\n",
      "add  pr1002.tsp 351387.2202433054 5.513125896453857 171584\n",
      "pr152.tsp\n",
      "add  pr152.tsp 92021.71384204339 0.13132405281066895 155192\n",
      "pr226.tsp\n",
      "add  pr226.tsp 115264.0126646197 0.30127501487731934 155248\n",
      "vm1748.tsp\n",
      "add  vm1748.tsp 445935.551642111 25.716598987579346 236760\n",
      "pr144.tsp\n",
      "add  pr144.tsp 80596.32004796875 0.13529515266418457 130230\n",
      "kroE100.tsp\n",
      "add  kroE100.tsp 30507.419046823474 0.05308389663696289 89520\n"
     ]
    }
   ],
   "source": [
    "# files = list(listdir('ALL_tsp'))\n",
    "dfTAtT = pd.DataFrame({'Name':['a'],'Val':[0],'time':[0],'space':[0]})\n",
    "for file in files:\n",
    "    try:\n",
    "        with time_limit(1800):\n",
    "            name = file\n",
    "            print(name)\n",
    "            (G,_,_) = main.Graph('ALL_tsp/'+file)\n",
    "            init = T.time()\n",
    "            tracemalloc.start()\n",
    "            snapshot1 = tracemalloc.take_snapshot()\n",
    "            (_, W) = TAtT.TatT(G,1)\n",
    "            snapshot2 = tracemalloc.take_snapshot()\n",
    "            tracemalloc.stop()\n",
    "            diferenca = snapshot2.compare_to(snapshot1, 'lineno')\n",
    "            space = round(sum(abs(stat.size_diff) for stat in diferenca), 2)\n",
    "            time = T.time() - init\n",
    "            newrow = pd.DataFrame({'Name':[file],'Val':[W],'time':[round(time,2)],'space':[space]})\n",
    "            dfTAtT = pd.concat([dfTAtT,newrow],ignore_index=True)\n",
    "            dfTAtT.to_csv('CSV/TAtT.csv')\n",
    "            print('add ',name,W,time,space)\n",
    "    except TimeoutException as e:\n",
    "        newrow = pd.DataFrame({'Name':[file],'Val':[None],'time':[1800],'space':[None]})\n",
    "        dfTAtT = pd.concat([dfTAtT,newrow],ignore_index=True)\n",
    "        dfTAtT.to_csv('CSV/TAtT.csv')\n",
    "        print(\"Timed out! \",file)\n",
    "dfTAtT = dfTAtT.drop([0], axis=0)\n"
   ]
  },
  {
   "cell_type": "code",
   "execution_count": null,
   "metadata": {},
   "outputs": [
    {
     "name": "stdout",
     "output_type": "stream",
     "text": [
      "d15112.tsp\n",
      "Timed out!  d15112.tsp\n",
      "pr107.tsp\n",
      "add  pr107.tsp 57503.041524445405 0.16680216789245605 605382\n",
      "kroB200.tsp\n",
      "add  kroB200.tsp 38978.906995041165 1.0576579570770264 1302758\n",
      "brd14051.tsp\n"
     ]
    },
    {
     "ename": "KeyboardInterrupt",
     "evalue": "",
     "output_type": "error",
     "traceback": [
      "\u001b[0;31m---------------------------------------------------------------------------\u001b[0m",
      "\u001b[0;31mKeyboardInterrupt\u001b[0m                         Traceback (most recent call last)",
      "File \u001b[0;32m_zmq.py:160\u001b[0m, in \u001b[0;36mzmq.backend.cython._zmq._check_rc\u001b[0;34m()\u001b[0m\n",
      "\u001b[0;31mKeyboardInterrupt\u001b[0m: "
     ]
    },
    {
     "name": "stderr",
     "output_type": "stream",
     "text": [
      "Exception ignored in: 'zmq.backend.cython._zmq.Frame.__del__'\n",
      "Traceback (most recent call last):\n",
      "  File \"_zmq.py\", line 160, in zmq.backend.cython._zmq._check_rc\n",
      "KeyboardInterrupt: \n"
     ]
    }
   ],
   "source": [
    "# files = list(listdir('ALL_tsp'))\n",
    "dfChristofides = pd.DataFrame({'Name':['a'],'Val':[0],'time':[0],'space':[0]})\n",
    "for file in files:\n",
    "    try:\n",
    "        with time_limit(65):\n",
    "            name = file\n",
    "            print(name)\n",
    "            (G,_,_) = main.Graph('ALL_tsp/'+file)\n",
    "            init = T.time()\n",
    "            tracemalloc.start()\n",
    "            snapshot1 = tracemalloc.take_snapshot()\n",
    "            (_, W) = Christofides.Christofides(G,1)\n",
    "            time = T.time() - init\n",
    "            snapshot2 = tracemalloc.take_snapshot()\n",
    "            tracemalloc.stop()      \n",
    "            diferenca = snapshot2.compare_to(snapshot1, 'lineno')\n",
    "            space = round(sum(abs(stat.size_diff) for stat in diferenca), 2)\n",
    "            newrow = pd.DataFrame({'Name':[file],'Val':[W],'time':[time],'space':[space]})\n",
    "            dfChristofides = pd.concat([dfChristofides,newrow],ignore_index=True)\n",
    "            dfChristofides.to_csv('CSV/Christofides.csv')\n",
    "            print('add ',name,W,time,space)\n",
    "    except TimeoutException as e:\n",
    "        newrow = pd.DataFrame({'Name':[file],'Val':[None],'time':[30],'space':[None]})\n",
    "        dfChristofides = pd.concat([dfChristofides,newrow],ignore_index=True)\n",
    "        dfTAtT.to_csv('CSV/TAtT.csv')\n",
    "        print(\"Timed out! \",file)\n",
    "dfChristofides = dfChristofides.drop([0],axis=0)"
   ]
  }
 ],
 "metadata": {
  "kernelspec": {
   "display_name": "Python 3",
   "language": "python",
   "name": "python3"
  },
  "language_info": {
   "codemirror_mode": {
    "name": "ipython",
    "version": 3
   },
   "file_extension": ".py",
   "mimetype": "text/x-python",
   "name": "python",
   "nbconvert_exporter": "python",
   "pygments_lexer": "ipython3",
   "version": "3.13.0"
  }
 },
 "nbformat": 4,
 "nbformat_minor": 2
}
